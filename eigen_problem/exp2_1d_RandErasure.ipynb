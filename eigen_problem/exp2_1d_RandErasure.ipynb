{
 "cells": [
  {
   "cell_type": "code",
   "execution_count": 1,
   "metadata": {},
   "outputs": [],
   "source": [
    "from with_FEM_MassMatrix import *\n",
    "from convergence import *\n",
    "from Reference_Solvers import *\n",
    "from Experimental_Order_Cvg import *\n",
    "from plots import *"
   ]
  },
  {
   "attachments": {},
   "cell_type": "markdown",
   "metadata": {},
   "source": [
    "Experiment 1"
   ]
  },
  {
   "cell_type": "code",
   "execution_count": 2,
   "metadata": {},
   "outputs": [],
   "source": [
    "alpha = 0.1\n",
    "beta = 1.\n",
    "NSamples =200\n",
    "pList = [0.01, 0.02, 0.03, 0.04, 0.05]\n",
    "model ={'name': 'erasure', 'alpha': alpha, 'beta': beta}\n",
    "NCoarse = np.array([4])\n",
    "Nepsilon = np.array([128])\n",
    "NFine = np.array([256])    # Number of \"epsilon-blocks\" on τ_ε mesh in each direction (1-D array: [x_ε, y_ε, z_ε] if 3D etc.)     # Number of \"coarse-blocks\" on τ_H mesh in each direction (1-D array: [x_H, y_H, z_H]) # Number of layers in the patch \n",
    "Neigen = 3\n",
    "k =3\n",
    "np.random.seed(123)\n",
    "root = 'Data/LOD_1d_randerasure/N200_Ppt01_pt05_5_K3'"
   ]
  },
  {
   "cell_type": "code",
   "execution_count": 4,
   "metadata": {},
   "outputs": [],
   "source": [
    "convergence(Neigen, NCoarse, NFine, Nepsilon, k, NSamples, pList,alpha,beta, model, solver = \"LOD\",reference_solver=\"FEM\", save_files = True, plot=False, root=root)"
   ]
  },
  {
   "cell_type": "code",
   "execution_count": null,
   "metadata": {},
   "outputs": [],
   "source": [
    "plots_cvg(root=root, H_Convergence=True, p_Convergence=True)"
   ]
  },
  {
   "cell_type": "code",
   "execution_count": null,
   "metadata": {},
   "outputs": [],
   "source": [
    "EOC(NCoarse, NFine, Nepsilon, k, NSamples, pList,alpha,beta, Neigen, root = root, use_stored_data=True)"
   ]
  },
  {
   "attachments": {},
   "cell_type": "markdown",
   "metadata": {},
   "source": [
    "Experiment 2"
   ]
  },
  {
   "cell_type": "code",
   "execution_count": null,
   "metadata": {},
   "outputs": [],
   "source": [
    "alpha = 0.1\n",
    "beta = 1.\n",
    "NSamples =200\n",
    "pList = [0.02, 0.04, 0.06, 0.08]\n",
    "model ={'name': 'erasure', 'alpha': alpha, 'beta': beta}\n",
    "NCoarse = np.array([4])\n",
    "Nepsilon = np.array([128])\n",
    "NFine = np.array([256])    # Number of \"epsilon-blocks\" on τ_ε mesh in each direction (1-D array: [x_ε, y_ε, z_ε] if 3D etc.)     # Number of \"coarse-blocks\" on τ_H mesh in each direction (1-D array: [x_H, y_H, z_H]) # Number of layers in the patch \n",
    "Neigen = 3\n",
    "k =3\n",
    "np.random.seed(123)\n",
    "root = 'Data/LOD_1d_randerasure/N200_Ppt02_pt1_4_K3'"
   ]
  },
  {
   "cell_type": "code",
   "execution_count": null,
   "metadata": {},
   "outputs": [],
   "source": [
    "convergence(Neigen, NCoarse, NFine, Nepsilon, k, NSamples, pList,alpha,beta, model, solver = \"LOD\",reference_solver=\"FEM\", save_files = True, plot=False, root=root)"
   ]
  },
  {
   "cell_type": "code",
   "execution_count": null,
   "metadata": {},
   "outputs": [],
   "source": [
    "plots_cvg(root=root, H_Convergence=True, p_Convergence=True)"
   ]
  }
 ],
 "metadata": {
  "kernelspec": {
   "display_name": "venv3",
   "language": "python",
   "name": "python3"
  },
  "language_info": {
   "codemirror_mode": {
    "name": "ipython",
    "version": 3
   },
   "file_extension": ".py",
   "mimetype": "text/x-python",
   "name": "python",
   "nbconvert_exporter": "python",
   "pygments_lexer": "ipython3",
   "version": "3.9.2"
  },
  "orig_nbformat": 4
 },
 "nbformat": 4,
 "nbformat_minor": 2
}
