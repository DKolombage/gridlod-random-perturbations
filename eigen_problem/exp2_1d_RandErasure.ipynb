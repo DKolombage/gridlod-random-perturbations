{
 "cells": [
  {
   "cell_type": "code",
   "execution_count": 1,
   "metadata": {},
   "outputs": [],
   "source": [
    "from with_FEM_MassMatrix import *\n",
    "from convergence import *\n",
    "from Reference_Solvers import *\n",
    "from Experimental_Order_Cvg import *\n",
    "from plots import *"
   ]
  },
  {
   "cell_type": "code",
   "execution_count": 2,
   "metadata": {},
   "outputs": [],
   "source": [
    "alpha = 0.1\n",
    "beta = 1.\n",
    "NSamples =500\n",
    "pList = [0.01, 0.05, 0.1, 0.15, 0.2, 0.25, 0.3, 0.35, 0.4, 0.45, 0.5]\n",
    "model ={'name': 'erasure', 'alpha': alpha, 'beta': beta}\n",
    "NCoarse = np.array([4])\n",
    "Nepsilon = np.array([128])\n",
    "NFine = np.array([256])    # Number of \"epsilon-blocks\" on τ_ε mesh in each direction (1-D array: [x_ε, y_ε, z_ε] if 3D etc.)     # Number of \"coarse-blocks\" on τ_H mesh in each direction (1-D array: [x_H, y_H, z_H]) # Number of layers in the patch \n",
    "Neigen = 3\n",
    "k =1\n",
    "np.random.seed(123)\n",
    "root = 'Data/LOD_1d_randerasure/'"
   ]
  },
  {
   "cell_type": "code",
   "execution_count": 4,
   "metadata": {},
   "outputs": [
    {
     "name": "stderr",
     "output_type": "stream",
     "text": [
      "/home/kolombag/Documents/gridlod-random-perturbations/venv3/lib/python3.9/site-packages/scipy/sparse/_index.py:137: SparseEfficiencyWarning: Changing the sparsity structure of a csc_matrix is expensive. lil_matrix is more efficient.\n",
      "  self._set_arrayXarray_sparse(i, j, x)\n"
     ]
    },
    {
     "ename": "KeyboardInterrupt",
     "evalue": "",
     "output_type": "error",
     "traceback": [
      "\u001b[0;31m---------------------------------------------------------------------------\u001b[0m",
      "\u001b[0;31mKeyboardInterrupt\u001b[0m                         Traceback (most recent call last)",
      "Cell \u001b[0;32mIn[4], line 1\u001b[0m\n\u001b[0;32m----> 1\u001b[0m convergence(Neigen, NCoarse, NFine, Nepsilon, k, NSamples, pList,alpha,beta, model, solver \u001b[39m=\u001b[39;49m \u001b[39m\"\u001b[39;49m\u001b[39mLOD\u001b[39;49m\u001b[39m\"\u001b[39;49m,reference_solver\u001b[39m=\u001b[39;49m\u001b[39m\"\u001b[39;49m\u001b[39mFEM\u001b[39;49m\u001b[39m\"\u001b[39;49m, save_files \u001b[39m=\u001b[39;49m \u001b[39mTrue\u001b[39;49;00m, plot\u001b[39m=\u001b[39;49m\u001b[39mFalse\u001b[39;49;00m, root\u001b[39m=\u001b[39;49mroot)\n",
      "File \u001b[0;32m~/Documents/gridlod-random-perturbations/eigen_problem/convergence.py:30\u001b[0m, in \u001b[0;36mconvergence\u001b[0;34m(Neigen, NCoarse, NFine, Nepsilon, k, NSamples, pList, alpha, beta, model, solver, reference_solver, save_files, plot, root)\u001b[0m\n\u001b[1;32m     27\u001b[0m     absErrorList_λ2 \u001b[39m=\u001b[39m \u001b[39mabs\u001b[39m(K_λ2\u001b[39m-\u001b[39mM_λ2)\n\u001b[1;32m     29\u001b[0m \u001b[39melif\u001b[39;00m reference_solver \u001b[39m==\u001b[39m \u001b[39m\"\u001b[39m\u001b[39mFEM\u001b[39m\u001b[39m\"\u001b[39m \u001b[39mand\u001b[39;00m solver \u001b[39m==\u001b[39m \u001b[39m\"\u001b[39m\u001b[39mLOD\u001b[39m\u001b[39m\"\u001b[39m:\n\u001b[0;32m---> 30\u001b[0m     K_λ1, K_λ2 \u001b[39m=\u001b[39m KLOD_MFEM_EigenSolver(NCoarse, NFine, Nepsilon, k, alpha, beta, NSamples, pList, Neigen, save_file\u001b[39m=\u001b[39;49m\u001b[39mFalse\u001b[39;49;00m)\n\u001b[1;32m     31\u001b[0m     M_λ1, M_λ2 \u001b[39m=\u001b[39m  FEM_EigenSolver(Neigen, NSamples, pList,alpha,beta, NCoarse, NFine, Nepsilon, save_file\u001b[39m=\u001b[39m\u001b[39mFalse\u001b[39;00m)\n\u001b[1;32m     32\u001b[0m     absErrorList_λ1 \u001b[39m=\u001b[39m \u001b[39mabs\u001b[39m(K_λ1\u001b[39m-\u001b[39mM_λ1)  \u001b[39m# p in rows and Nsamples in columns\u001b[39;00m\n",
      "File \u001b[0;32m~/Documents/gridlod-random-perturbations/eigen_problem/with_FEM_MassMatrix.py:56\u001b[0m, in \u001b[0;36mKLOD_MFEM_EigenSolver\u001b[0;34m(NCoarse, NFine, Nepsilon, k, alpha, beta, NSamples, pList, Neigen, save_file)\u001b[0m\n\u001b[1;32m     53\u001b[0m IPatch \u001b[39m=\u001b[39m \u001b[39mlambda\u001b[39;00m: interp\u001b[39m.\u001b[39mL2ProjectionPatchMatrix(patchRef)\n\u001b[1;32m     54\u001b[0m computeKmsijT \u001b[39m=\u001b[39m \u001b[39mlambda\u001b[39;00m TInd: computeKmsij(TInd, aPert, IPatch)     \n\u001b[0;32m---> 56\u001b[0m patchT, correctorsTtrue, KmsijTtrue, _ \u001b[39m=\u001b[39m \u001b[39mzip\u001b[39;49m(\u001b[39m*\u001b[39;49m\u001b[39mmap\u001b[39;49m(computeKmsijT, \u001b[39mrange\u001b[39;49m(world\u001b[39m.\u001b[39;49mNtCoarse)))\n\u001b[1;32m     57\u001b[0m KFulltrue \u001b[39m=\u001b[39m lod_periodic\u001b[39m.\u001b[39massembleMsStiffnessMatrix(world, patchT, KmsijTtrue, periodic\u001b[39m=\u001b[39m\u001b[39mTrue\u001b[39;00m)\n\u001b[1;32m     58\u001b[0m correctorsTtrue \u001b[39m=\u001b[39m \u001b[39mtuple\u001b[39m(correctorsTtrue)\n",
      "File \u001b[0;32m~/Documents/gridlod-random-perturbations/eigen_problem/with_FEM_MassMatrix.py:54\u001b[0m, in \u001b[0;36mKLOD_MFEM_EigenSolver.<locals>.<lambda>\u001b[0;34m(TInd)\u001b[0m\n\u001b[1;32m     52\u001b[0m patchRef \u001b[39m=\u001b[39m lod_periodic\u001b[39m.\u001b[39mPatchPeriodic(world, k, middle)\n\u001b[1;32m     53\u001b[0m IPatch \u001b[39m=\u001b[39m \u001b[39mlambda\u001b[39;00m: interp\u001b[39m.\u001b[39mL2ProjectionPatchMatrix(patchRef)\n\u001b[0;32m---> 54\u001b[0m computeKmsijT \u001b[39m=\u001b[39m \u001b[39mlambda\u001b[39;00m TInd: computeKmsij(TInd, aPert, IPatch)     \n\u001b[1;32m     56\u001b[0m patchT, correctorsTtrue, KmsijTtrue, _ \u001b[39m=\u001b[39m \u001b[39mzip\u001b[39m(\u001b[39m*\u001b[39m\u001b[39mmap\u001b[39m(computeKmsijT, \u001b[39mrange\u001b[39m(world\u001b[39m.\u001b[39mNtCoarse)))\n\u001b[1;32m     57\u001b[0m KFulltrue \u001b[39m=\u001b[39m lod_periodic\u001b[39m.\u001b[39massembleMsStiffnessMatrix(world, patchT, KmsijTtrue, periodic\u001b[39m=\u001b[39m\u001b[39mTrue\u001b[39;00m)\n",
      "File \u001b[0;32m~/Documents/gridlod-random-perturbations/eigen_problem/with_FEM_MassMatrix.py:30\u001b[0m, in \u001b[0;36mKLOD_MFEM_EigenSolver.<locals>.computeKmsij\u001b[0;34m(TInd, a, IPatch)\u001b[0m\n\u001b[1;32m     27\u001b[0m aPatch \u001b[39m=\u001b[39m lod_periodic\u001b[39m.\u001b[39mlocalizeCoefficient(patch,a, periodic\u001b[39m=\u001b[39m\u001b[39mTrue\u001b[39;00m)\n\u001b[1;32m     29\u001b[0m correctorsList \u001b[39m=\u001b[39m lod\u001b[39m.\u001b[39mcomputeBasisCorrectors(patch, IPatch, aPatch)\n\u001b[0;32m---> 30\u001b[0m csi \u001b[39m=\u001b[39m lod\u001b[39m.\u001b[39;49mcomputeBasisCoarseQuantities(patch, correctorsList, aPatch)\n\u001b[1;32m     31\u001b[0m \u001b[39mreturn\u001b[39;00m patch, correctorsList, csi\u001b[39m.\u001b[39mKmsij, csi\n",
      "File \u001b[0;32m~/Documents/gridlod-random-perturbations/gridlod/gridlod/lod.py:566\u001b[0m, in \u001b[0;36mcomputeBasisCoarseQuantities\u001b[0;34m(patch, correctorsList, aPatch)\u001b[0m\n\u001b[1;32m    563\u001b[0m         LTPrimeij[TPrimeInd] \u001b[39m=\u001b[39m CTPrimeij\n\u001b[1;32m    564\u001b[0m         Kmsij[TPrimei,:] \u001b[39m+\u001b[39m\u001b[39m=\u001b[39m \u001b[39m-\u001b[39mBTPrimeij\n\u001b[0;32m--> 566\u001b[0m performTPrimeLoop(patch, lambdasList, correctorsList, aPatch, accumulate)\n\u001b[1;32m    569\u001b[0m muTPrime \u001b[39m=\u001b[39m np\u001b[39m.\u001b[39mzeros(NTPrime)\n\u001b[1;32m    570\u001b[0m cutRows \u001b[39m=\u001b[39m \u001b[39m0\u001b[39m\n",
      "File \u001b[0;32m~/Documents/gridlod-random-perturbations/gridlod/gridlod/lod.py:515\u001b[0m, in \u001b[0;36mperformTPrimeLoop\u001b[0;34m(patch, lambdasList, correctorsList, aPatch, accumulate)\u001b[0m\n\u001b[1;32m    505\u001b[0m \u001b[39mfor\u001b[39;00m (TPrimeInd,\n\u001b[1;32m    506\u001b[0m      TPrimeCoarsepStartIndex,\n\u001b[1;32m    507\u001b[0m      TPrimeFinetStartIndex,\n\u001b[0;32m   (...)\u001b[0m\n\u001b[1;32m    511\u001b[0m             TPrimeFinetStartIndices,\n\u001b[1;32m    512\u001b[0m             TPrimeFinepStartIndices):\n\u001b[1;32m    514\u001b[0m     aTPrime \u001b[39m=\u001b[39m aPatch[TPrimeFinetStartIndex \u001b[39m+\u001b[39m TPrimeFinetIndexMap]\n\u001b[0;32m--> 515\u001b[0m     KTPrime \u001b[39m=\u001b[39m fem\u001b[39m.\u001b[39;49massemblePatchMatrix(NCoarseElement, ALocFine, aTPrime)\n\u001b[1;32m    516\u001b[0m     P \u001b[39m=\u001b[39m lambdas\n\u001b[1;32m    517\u001b[0m     Q \u001b[39m=\u001b[39m QPatch[TPrimeFinepStartIndex \u001b[39m+\u001b[39m TPrimeFinepIndexMap,:]\n",
      "File \u001b[0;32m~/Documents/gridlod-random-perturbations/gridlod/gridlod/fem.py:104\u001b[0m, in \u001b[0;36massemblePatchMatrix\u001b[0;34m(NPatch, ALoc, aPatch)\u001b[0m\n\u001b[1;32m    100\u001b[0m \u001b[39melif\u001b[39;00m aPatch\u001b[39m.\u001b[39mndim \u001b[39m==\u001b[39m \u001b[39m3\u001b[39m:\n\u001b[1;32m    101\u001b[0m     \u001b[39m# Coefficient is matrix-valued\u001b[39;00m\n\u001b[1;32m    102\u001b[0m     values \u001b[39m=\u001b[39m np\u001b[39m.\u001b[39meinsum(\u001b[39m'\u001b[39m\u001b[39mijkl,Tkl->Tij\u001b[39m\u001b[39m'\u001b[39m, ALoc, aPatch)\u001b[39m.\u001b[39mflatten()\n\u001b[0;32m--> 104\u001b[0m APatch \u001b[39m=\u001b[39m sparse\u001b[39m.\u001b[39;49mcsc_matrix((values, (rows, cols)), shape\u001b[39m=\u001b[39;49m(Np, Np))\n\u001b[1;32m    105\u001b[0m APatch\u001b[39m.\u001b[39meliminate_zeros()\n\u001b[1;32m    107\u001b[0m \u001b[39mreturn\u001b[39;00m APatch\n",
      "File \u001b[0;32m~/Documents/gridlod-random-perturbations/venv3/lib/python3.9/site-packages/scipy/sparse/_compressed.py:52\u001b[0m, in \u001b[0;36m_cs_matrix.__init__\u001b[0;34m(self, arg1, shape, dtype, copy)\u001b[0m\n\u001b[1;32m     49\u001b[0m \u001b[39melse\u001b[39;00m:\n\u001b[1;32m     50\u001b[0m     \u001b[39mif\u001b[39;00m \u001b[39mlen\u001b[39m(arg1) \u001b[39m==\u001b[39m \u001b[39m2\u001b[39m:\n\u001b[1;32m     51\u001b[0m         \u001b[39m# (data, ij) format\u001b[39;00m\n\u001b[0;32m---> 52\u001b[0m         other \u001b[39m=\u001b[39m \u001b[39mself\u001b[39;49m\u001b[39m.\u001b[39;49m\u001b[39m__class__\u001b[39;49m(\n\u001b[1;32m     53\u001b[0m             \u001b[39mself\u001b[39;49m\u001b[39m.\u001b[39;49m_coo_container(arg1, shape\u001b[39m=\u001b[39;49mshape, dtype\u001b[39m=\u001b[39;49mdtype)\n\u001b[1;32m     54\u001b[0m         )\n\u001b[1;32m     55\u001b[0m         \u001b[39mself\u001b[39m\u001b[39m.\u001b[39m_set_self(other)\n\u001b[1;32m     56\u001b[0m     \u001b[39melif\u001b[39;00m \u001b[39mlen\u001b[39m(arg1) \u001b[39m==\u001b[39m \u001b[39m3\u001b[39m:\n\u001b[1;32m     57\u001b[0m         \u001b[39m# (data, indices, indptr) format\u001b[39;00m\n",
      "File \u001b[0;32m~/Documents/gridlod-random-perturbations/venv3/lib/python3.9/site-packages/scipy/sparse/_compressed.py:33\u001b[0m, in \u001b[0;36m_cs_matrix.__init__\u001b[0;34m(self, arg1, shape, dtype, copy)\u001b[0m\n\u001b[1;32m     31\u001b[0m         arg1 \u001b[39m=\u001b[39m arg1\u001b[39m.\u001b[39mcopy()\n\u001b[1;32m     32\u001b[0m     \u001b[39melse\u001b[39;00m:\n\u001b[0;32m---> 33\u001b[0m         arg1 \u001b[39m=\u001b[39m arg1\u001b[39m.\u001b[39;49masformat(\u001b[39mself\u001b[39;49m\u001b[39m.\u001b[39;49mformat)\n\u001b[1;32m     34\u001b[0m     \u001b[39mself\u001b[39m\u001b[39m.\u001b[39m_set_self(arg1)\n\u001b[1;32m     36\u001b[0m \u001b[39melif\u001b[39;00m \u001b[39misinstance\u001b[39m(arg1, \u001b[39mtuple\u001b[39m):\n",
      "File \u001b[0;32m~/Documents/gridlod-random-perturbations/venv3/lib/python3.9/site-packages/scipy/sparse/_base.py:376\u001b[0m, in \u001b[0;36mspmatrix.asformat\u001b[0;34m(self, format, copy)\u001b[0m\n\u001b[1;32m    374\u001b[0m \u001b[39m# Forward the copy kwarg, if it's accepted.\u001b[39;00m\n\u001b[1;32m    375\u001b[0m \u001b[39mtry\u001b[39;00m:\n\u001b[0;32m--> 376\u001b[0m     \u001b[39mreturn\u001b[39;00m convert_method(copy\u001b[39m=\u001b[39;49mcopy)\n\u001b[1;32m    377\u001b[0m \u001b[39mexcept\u001b[39;00m \u001b[39mTypeError\u001b[39;00m:\n\u001b[1;32m    378\u001b[0m     \u001b[39mreturn\u001b[39;00m convert_method()\n",
      "File \u001b[0;32m~/Documents/gridlod-random-perturbations/venv3/lib/python3.9/site-packages/scipy/sparse/_coo.py:367\u001b[0m, in \u001b[0;36mcoo_matrix.tocsc\u001b[0;34m(self, copy)\u001b[0m\n\u001b[1;32m    362\u001b[0m data \u001b[39m=\u001b[39m np\u001b[39m.\u001b[39mempty_like(\u001b[39mself\u001b[39m\u001b[39m.\u001b[39mdata, dtype\u001b[39m=\u001b[39mupcast(\u001b[39mself\u001b[39m\u001b[39m.\u001b[39mdtype))\n\u001b[1;32m    364\u001b[0m coo_tocsr(N, M, \u001b[39mself\u001b[39m\u001b[39m.\u001b[39mnnz, col, row, \u001b[39mself\u001b[39m\u001b[39m.\u001b[39mdata,\n\u001b[1;32m    365\u001b[0m           indptr, indices, data)\n\u001b[0;32m--> 367\u001b[0m x \u001b[39m=\u001b[39m \u001b[39mself\u001b[39;49m\u001b[39m.\u001b[39;49m_csc_container((data, indices, indptr), shape\u001b[39m=\u001b[39;49m\u001b[39mself\u001b[39;49m\u001b[39m.\u001b[39;49mshape)\n\u001b[1;32m    368\u001b[0m \u001b[39mif\u001b[39;00m \u001b[39mnot\u001b[39;00m \u001b[39mself\u001b[39m\u001b[39m.\u001b[39mhas_canonical_format:\n\u001b[1;32m    369\u001b[0m     x\u001b[39m.\u001b[39msum_duplicates()\n",
      "File \u001b[0;32m~/Documents/gridlod-random-perturbations/venv3/lib/python3.9/site-packages/scipy/sparse/_compressed.py:65\u001b[0m, in \u001b[0;36m_cs_matrix.__init__\u001b[0;34m(self, arg1, shape, dtype, copy)\u001b[0m\n\u001b[1;32m     63\u001b[0m \u001b[39mif\u001b[39;00m shape \u001b[39mis\u001b[39;00m \u001b[39mnot\u001b[39;00m \u001b[39mNone\u001b[39;00m:\n\u001b[1;32m     64\u001b[0m     maxval \u001b[39m=\u001b[39m \u001b[39mmax\u001b[39m(shape)\n\u001b[0;32m---> 65\u001b[0m idx_dtype \u001b[39m=\u001b[39m get_index_dtype((indices, indptr),\n\u001b[1;32m     66\u001b[0m                             maxval\u001b[39m=\u001b[39;49mmaxval,\n\u001b[1;32m     67\u001b[0m                             check_contents\u001b[39m=\u001b[39;49m\u001b[39mTrue\u001b[39;49;00m)\n\u001b[1;32m     69\u001b[0m \u001b[39mself\u001b[39m\u001b[39m.\u001b[39mindices \u001b[39m=\u001b[39m np\u001b[39m.\u001b[39marray(indices, copy\u001b[39m=\u001b[39mcopy,\n\u001b[1;32m     70\u001b[0m                         dtype\u001b[39m=\u001b[39midx_dtype)\n\u001b[1;32m     71\u001b[0m \u001b[39mself\u001b[39m\u001b[39m.\u001b[39mindptr \u001b[39m=\u001b[39m np\u001b[39m.\u001b[39marray(indptr, copy\u001b[39m=\u001b[39mcopy, dtype\u001b[39m=\u001b[39midx_dtype)\n",
      "File \u001b[0;32m~/Documents/gridlod-random-perturbations/venv3/lib/python3.9/site-packages/scipy/sparse/_sputils.py:170\u001b[0m, in \u001b[0;36mget_index_dtype\u001b[0;34m(arrays, maxval, check_contents)\u001b[0m\n\u001b[1;32m    148\u001b[0m \u001b[39m\u001b[39m\u001b[39m\"\"\"\u001b[39;00m\n\u001b[1;32m    149\u001b[0m \u001b[39mBased on input (integer) arrays `a`, determine a suitable index data\u001b[39;00m\n\u001b[1;32m    150\u001b[0m \u001b[39mtype that can hold the data in the arrays.\u001b[39;00m\n\u001b[0;32m   (...)\u001b[0m\n\u001b[1;32m    166\u001b[0m \n\u001b[1;32m    167\u001b[0m \u001b[39m\"\"\"\u001b[39;00m\n\u001b[1;32m    169\u001b[0m int32min \u001b[39m=\u001b[39m np\u001b[39m.\u001b[39mint32(np\u001b[39m.\u001b[39miinfo(np\u001b[39m.\u001b[39mint32)\u001b[39m.\u001b[39mmin)\n\u001b[0;32m--> 170\u001b[0m int32max \u001b[39m=\u001b[39m np\u001b[39m.\u001b[39mint32(np\u001b[39m.\u001b[39;49miinfo(np\u001b[39m.\u001b[39;49mint32)\u001b[39m.\u001b[39mmax)\n\u001b[1;32m    172\u001b[0m \u001b[39m# not using intc directly due to misinteractions with pythran\u001b[39;00m\n\u001b[1;32m    173\u001b[0m dtype \u001b[39m=\u001b[39m np\u001b[39m.\u001b[39mint32 \u001b[39mif\u001b[39;00m np\u001b[39m.\u001b[39mintc()\u001b[39m.\u001b[39mitemsize \u001b[39m==\u001b[39m \u001b[39m4\u001b[39m \u001b[39melse\u001b[39;00m np\u001b[39m.\u001b[39mint64\n",
      "File \u001b[0;32m~/Documents/gridlod-random-perturbations/venv3/lib/python3.9/site-packages/numpy/core/getlimits.py:675\u001b[0m, in \u001b[0;36miinfo.__init__\u001b[0;34m(self, int_type)\u001b[0m\n\u001b[1;32m    673\u001b[0m \u001b[39mself\u001b[39m\u001b[39m.\u001b[39mkind \u001b[39m=\u001b[39m \u001b[39mself\u001b[39m\u001b[39m.\u001b[39mdtype\u001b[39m.\u001b[39mkind\n\u001b[1;32m    674\u001b[0m \u001b[39mself\u001b[39m\u001b[39m.\u001b[39mbits \u001b[39m=\u001b[39m \u001b[39mself\u001b[39m\u001b[39m.\u001b[39mdtype\u001b[39m.\u001b[39mitemsize \u001b[39m*\u001b[39m \u001b[39m8\u001b[39m\n\u001b[0;32m--> 675\u001b[0m \u001b[39mself\u001b[39m\u001b[39m.\u001b[39mkey \u001b[39m=\u001b[39m \u001b[39m\"\u001b[39;49m\u001b[39m%s\u001b[39;49;00m\u001b[39m%d\u001b[39;49;00m\u001b[39m\"\u001b[39;49m \u001b[39m%\u001b[39;49m (\u001b[39mself\u001b[39;49m\u001b[39m.\u001b[39;49mkind, \u001b[39mself\u001b[39;49m\u001b[39m.\u001b[39;49mbits)\n\u001b[1;32m    676\u001b[0m \u001b[39mif\u001b[39;00m \u001b[39mself\u001b[39m\u001b[39m.\u001b[39mkind \u001b[39mnot\u001b[39;00m \u001b[39min\u001b[39;00m \u001b[39m'\u001b[39m\u001b[39miu\u001b[39m\u001b[39m'\u001b[39m:\n\u001b[1;32m    677\u001b[0m     \u001b[39mraise\u001b[39;00m \u001b[39mValueError\u001b[39;00m(\u001b[39m\"\u001b[39m\u001b[39mInvalid integer data type \u001b[39m\u001b[39m%r\u001b[39;00m\u001b[39m.\u001b[39m\u001b[39m\"\u001b[39m \u001b[39m%\u001b[39m (\u001b[39mself\u001b[39m\u001b[39m.\u001b[39mkind,))\n",
      "\u001b[0;31mKeyboardInterrupt\u001b[0m: "
     ]
    }
   ],
   "source": [
    "convergence(Neigen, NCoarse, NFine, Nepsilon, k, NSamples, pList,alpha,beta, model, solver = \"LOD\",reference_solver=\"FEM\", save_files = True, plot=False, root=root)"
   ]
  },
  {
   "cell_type": "code",
   "execution_count": null,
   "metadata": {},
   "outputs": [],
   "source": [
    "plots_cvg(root=root, H_Convergence=True, p_Convergence=True)"
   ]
  },
  {
   "cell_type": "code",
   "execution_count": null,
   "metadata": {},
   "outputs": [],
   "source": [
    "EOC(NCoarse, NFine, Nepsilon, k, NSamples, pList,alpha,beta, Neigen, root = root, use_stored_data=True)"
   ]
  }
 ],
 "metadata": {
  "kernelspec": {
   "display_name": "venv3",
   "language": "python",
   "name": "python3"
  },
  "language_info": {
   "codemirror_mode": {
    "name": "ipython",
    "version": 3
   },
   "file_extension": ".py",
   "mimetype": "text/x-python",
   "name": "python",
   "nbconvert_exporter": "python",
   "pygments_lexer": "ipython3",
   "version": "3.9.2"
  },
  "orig_nbformat": 4
 },
 "nbformat": 4,
 "nbformat_minor": 2
}
