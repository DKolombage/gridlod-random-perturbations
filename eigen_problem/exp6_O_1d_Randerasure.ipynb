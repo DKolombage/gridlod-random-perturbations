{
 "cells": [
  {
   "cell_type": "code",
   "execution_count": 6,
   "metadata": {},
   "outputs": [],
   "source": [
    "import numpy as np\n",
    "import scipy.io as sio\n",
    "import time\n",
    "from offline_online_alg import *\n",
    "from convergence import *\n",
    "from with_FEM_MassMatrix import *\n",
    "from plots import *\n",
    "from Experimental_Order_Cvg import *"
   ]
  },
  {
   "cell_type": "code",
   "execution_count": 16,
   "metadata": {},
   "outputs": [],
   "source": [
    "NFine = np.array([256])\n",
    "Nepsilon = np.array([128])\n",
    "NCoarse = np.array([16])\n",
    "k=1\n",
    "NSamples = 2\n",
    "dim = np.size(NFine)\n",
    "Neigen = 3\n",
    "boundaryConditions = None\n",
    "alpha = 1.\n",
    "beta = 10.\n",
    "left = np.array([0.25, 0.25])\n",
    "right = np.array([0.75, 0.75])\n",
    "pList = [0.01, 0.05, 0.1, 0.15]\n",
    "def_values = [alpha, 0.5, 5.]\n",
    "modelincl = {'name': 'incl', 'bgval': alpha, 'inclval': beta, 'left': left, 'right': right}\n",
    "np.random.seed(123)\n",
    "root = 'Data/OO_1d_randerasure/'"
   ]
  },
  {
   "cell_type": "code",
   "execution_count": 14,
   "metadata": {},
   "outputs": [
    {
     "data": {
      "text/plain": [
       "(array([[39.48389516, 39.4793883 ],\n",
       "        [39.47752683, 39.7809764 ],\n",
       "        [40.32085027, 40.42432123]]),\n",
       " array([[40.04673662, 40.04507026],\n",
       "        [40.03828925, 41.48983782],\n",
       "        [40.94662205, 41.40224739]]))"
      ]
     },
     "execution_count": 14,
     "metadata": {},
     "output_type": "execute_result"
    }
   ],
   "source": [
    "FEM_EigenSolver(Neigen, NSamples, pList,alpha,beta, NCoarse, NFine, Nepsilon, save_file=False)"
   ]
  },
  {
   "cell_type": "code",
   "execution_count": 17,
   "metadata": {},
   "outputs": [
    {
     "ename": "KeyError",
     "evalue": "'bgval'",
     "output_type": "error",
     "traceback": [
      "\u001b[0;31m---------------------------------------------------------------------------\u001b[0m",
      "\u001b[0;31mKeyError\u001b[0m                                  Traceback (most recent call last)",
      "Cell \u001b[0;32mIn[17], line 1\u001b[0m\n\u001b[0;32m----> 1\u001b[0m KOOLOD_MFEM_EigenSolver(NCoarse, NFine, Nepsilon, k, alpha, beta, NSamples, pList, Neigen, model, save_file\u001b[39m=\u001b[39;49m\u001b[39mFalse\u001b[39;49;00m)\n",
      "File \u001b[0;32m~/Documents/gridlod-random-perturbations/eigen_problem/offline_online_alg.py:34\u001b[0m, in \u001b[0;36mKOOLOD_MFEM_EigenSolver\u001b[0;34m(NCoarse, NFine, Nepsilon, k, alpha, beta, NSamples, pList, Neigen, model, save_file)\u001b[0m\n\u001b[1;32m     31\u001b[0m     csi \u001b[39m=\u001b[39m lod\u001b[39m.\u001b[39mcomputeBasisCoarseQuantities(patch, correctorsList, aPatch)\n\u001b[1;32m     32\u001b[0m     \u001b[39mreturn\u001b[39;00m patch, correctorsList, csi\u001b[39m.\u001b[39mKmsij, csi\n\u001b[0;32m---> 34\u001b[0m aRefList, KmsijList, muTPrimeList, timeBasis, timeMatrixList \u001b[39m=\u001b[39m algorithms\u001b[39m.\u001b[39;49mcomputeCSI_offline(world, Nepsilon \u001b[39m/\u001b[39;49m\u001b[39m/\u001b[39;49m NCoarse,k,boundaryConditions,model,correctors\u001b[39m=\u001b[39;49m\u001b[39mFalse\u001b[39;49;00m)  \n\u001b[1;32m     35\u001b[0m \u001b[39m#print(aRefList)                                                           \u001b[39;00m\n\u001b[1;32m     36\u001b[0m aRef \u001b[39m=\u001b[39m np\u001b[39m.\u001b[39mcopy(aRefList[\u001b[39m-\u001b[39m\u001b[39m1\u001b[39m])\n",
      "File \u001b[0;32m~/Documents/gridlod-random-perturbations/random_perturbations/algorithms.py:25\u001b[0m, in \u001b[0;36mcomputeCSI_offline\u001b[0;34m(world, NepsilonElement, k, boundaryConditions, model, correctors)\u001b[0m\n\u001b[1;32m     21\u001b[0m     aRefList \u001b[39m=\u001b[39m build_coefficient\u001b[39m.\u001b[39mbuild_checkerboardbasis(patch\u001b[39m.\u001b[39mNPatchCoarse, NepsilonElement,\n\u001b[1;32m     22\u001b[0m                                                          world\u001b[39m.\u001b[39mNCoarseElement, model[\u001b[39m'\u001b[39m\u001b[39malpha\u001b[39m\u001b[39m'\u001b[39m], model[\u001b[39m'\u001b[39m\u001b[39mbeta\u001b[39m\u001b[39m'\u001b[39m])\n\u001b[1;32m     23\u001b[0m \u001b[39melif\u001b[39;00m model[\u001b[39m'\u001b[39m\u001b[39mname\u001b[39m\u001b[39m'\u001b[39m] \u001b[39m==\u001b[39m \u001b[39m'\u001b[39m\u001b[39mincl\u001b[39m\u001b[39m'\u001b[39m:\n\u001b[1;32m     24\u001b[0m     aRefList \u001b[39m=\u001b[39m build_coefficient\u001b[39m.\u001b[39mbuild_inclusionbasis_2d(patch\u001b[39m.\u001b[39mNPatchCoarse,NepsilonElement, world\u001b[39m.\u001b[39mNCoarseElement,\n\u001b[0;32m---> 25\u001b[0m                                                          model[\u001b[39m'\u001b[39;49m\u001b[39mbgval\u001b[39;49m\u001b[39m'\u001b[39;49m], model[\u001b[39m'\u001b[39m\u001b[39minclval\u001b[39m\u001b[39m'\u001b[39m], model[\u001b[39m'\u001b[39m\u001b[39mleft\u001b[39m\u001b[39m'\u001b[39m], model[\u001b[39m'\u001b[39m\u001b[39mright\u001b[39m\u001b[39m'\u001b[39m])\n\u001b[1;32m     26\u001b[0m \u001b[39melif\u001b[39;00m model[\u001b[39m'\u001b[39m\u001b[39mname\u001b[39m\u001b[39m'\u001b[39m] \u001b[39m==\u001b[39m \u001b[39m'\u001b[39m\u001b[39minclvalue\u001b[39m\u001b[39m'\u001b[39m:\n\u001b[1;32m     27\u001b[0m     aRefList \u001b[39m=\u001b[39m build_coefficient\u001b[39m.\u001b[39mbuild_inclusionbasis_2d(patch\u001b[39m.\u001b[39mNPatchCoarse, NepsilonElement, world\u001b[39m.\u001b[39mNCoarseElement,\n\u001b[1;32m     28\u001b[0m                                                          model[\u001b[39m'\u001b[39m\u001b[39mbgval\u001b[39m\u001b[39m'\u001b[39m], model[\u001b[39m'\u001b[39m\u001b[39minclval\u001b[39m\u001b[39m'\u001b[39m], model[\u001b[39m'\u001b[39m\u001b[39mleft\u001b[39m\u001b[39m'\u001b[39m],\n\u001b[1;32m     29\u001b[0m                                                          model[\u001b[39m'\u001b[39m\u001b[39mright\u001b[39m\u001b[39m'\u001b[39m], model[\u001b[39m'\u001b[39m\u001b[39mdefval\u001b[39m\u001b[39m'\u001b[39m])\n",
      "\u001b[0;31mKeyError\u001b[0m: 'bgval'"
     ]
    }
   ],
   "source": [
    "KOOLOD_MFEM_EigenSolver(NCoarse, NFine, Nepsilon, k, alpha, beta, NSamples, pList, Neigen, modelincl, save_file=False)"
   ]
  },
  {
   "cell_type": "code",
   "execution_count": null,
   "metadata": {},
   "outputs": [],
   "source": [
    "KLOD_MFEM_EigenSolver(NCoarse, NFine, Nepsilon, k, alpha, beta, NSamples, pList, Neigen, save_file=False)"
   ]
  },
  {
   "cell_type": "code",
   "execution_count": null,
   "metadata": {},
   "outputs": [],
   "source": [
    "convergence(Neigen, NCoarse, NFine, Nepsilon, k, NSamples, pList,alpha,beta, model, solver = \"LOD\", reference_solver=\"FEM\", save_files = True, plot=True, root=None)"
   ]
  },
  {
   "cell_type": "code",
   "execution_count": null,
   "metadata": {},
   "outputs": [],
   "source": [
    "plots_cvg(root=root, H_Convergence=True, p_Convergence=True)"
   ]
  }
 ],
 "metadata": {
  "kernelspec": {
   "display_name": "venv3",
   "language": "python",
   "name": "python3"
  },
  "language_info": {
   "codemirror_mode": {
    "name": "ipython",
    "version": 3
   },
   "file_extension": ".py",
   "mimetype": "text/x-python",
   "name": "python",
   "nbconvert_exporter": "python",
   "pygments_lexer": "ipython3",
   "version": "3.9.2"
  },
  "orig_nbformat": 4
 },
 "nbformat": 4,
 "nbformat_minor": 2
}
