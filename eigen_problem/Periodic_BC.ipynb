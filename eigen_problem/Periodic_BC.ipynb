{
 "cells": [
  {
   "cell_type": "code",
   "execution_count": 1,
   "metadata": {},
   "outputs": [],
   "source": [
    "import numpy as np\n",
    "import scipy.io as sio\n",
    "import scipy.linalg as ln"
   ]
  },
  {
   "attachments": {},
   "cell_type": "markdown",
   "metadata": {},
   "source": [
    "                                                                                Periodic  Boundary Conditions for 2D Box-type domain"
   ]
  },
  {
   "cell_type": "code",
   "execution_count": 2,
   "metadata": {},
   "outputs": [],
   "source": [
    "NCoarse = np.array([2,2])\n",
    "NpCoarse = np.prod(NCoarse+1) \n",
    "NFine = np.array([8, 8])\n",
    "NpFine = np.prod(NFine+1)     # Number of \"fine-nodes\" on τ_h mesh in each direction (1-D array: [x_h, y_h, z_h])\n",
    "Nepsilon = np.array([4,4])\n",
    "MFEM= np.array([])"
   ]
  },
  {
   "cell_type": "code",
   "execution_count": 3,
   "metadata": {},
   "outputs": [
    {
     "name": "stdout",
     "output_type": "stream",
     "text": [
      "[[ 1  2  3  4  5  6  7  8  9]\n",
      " [10 11 12 13 14 15 16 17 18]\n",
      " [19 20 21 22 23 24 25 26 27]\n",
      " [28 29 30 31 32 33 34 35 36]\n",
      " [37 38 39 40 41 42 43 44 45]\n",
      " [46 47 48 49 50 51 52 53 54]\n",
      " [55 56 57 58 59 60 61 62 63]\n",
      " [64 65 66 67 68 69 70 71 72]\n",
      " [73 74 75 76 77 78 79 80 81]]\n"
     ]
    }
   ],
   "source": [
    "# MFEM = np.ones((16,16))\n",
    "MFEM = np.array(range(1,82,1)).reshape(9,9)\n",
    "print(MFEM)"
   ]
  },
  {
   "cell_type": "code",
   "execution_count": 4,
   "metadata": {},
   "outputs": [
    {
     "data": {
      "text/plain": [
       "array([0, 3, 6])"
      ]
     },
     "execution_count": 4,
     "metadata": {},
     "output_type": "execute_result"
    }
   ],
   "source": [
    "#LHS node indices\n",
    "np.arange(0, NCoarse[1]*(NCoarse[0]+1)+1, NCoarse[0]+1)"
   ]
  },
  {
   "cell_type": "code",
   "execution_count": 5,
   "metadata": {},
   "outputs": [
    {
     "data": {
      "text/plain": [
       "array([[ 1,  2,  3,  4,  5,  6,  7,  8,  9],\n",
       "       [28, 29, 30, 31, 32, 33, 34, 35, 36],\n",
       "       [55, 56, 57, 58, 59, 60, 61, 62, 63]])"
      ]
     },
     "execution_count": 5,
     "metadata": {},
     "output_type": "execute_result"
    }
   ],
   "source": [
    "#LHS-ROW-values corresponding to above indices\n",
    "MFEM[np.arange(0, NCoarse[1]*(NCoarse[0]+1)+1, NCoarse[0]+1),:] "
   ]
  },
  {
   "cell_type": "code",
   "execution_count": 6,
   "metadata": {},
   "outputs": [
    {
     "data": {
      "text/plain": [
       "array([[ 1,  2,  3,  4,  5,  6,  7,  8,  9],\n",
       "       [28, 29, 30, 31, 32, 33, 34, 35, 36],\n",
       "       [55, 56, 57, 58, 59, 60, 61, 62, 63]])"
      ]
     },
     "execution_count": 6,
     "metadata": {},
     "output_type": "execute_result"
    }
   ],
   "source": [
    "#LHS-ROW-values corresponding to above indices\n",
    "MFEM[np.arange(0, NCoarse[1]*(NCoarse[0]+1)+1, NCoarse[0]+1),:] "
   ]
  },
  {
   "cell_type": "code",
   "execution_count": 7,
   "metadata": {},
   "outputs": [
    {
     "data": {
      "text/plain": [
       "array([2, 5, 8])"
      ]
     },
     "execution_count": 7,
     "metadata": {},
     "output_type": "execute_result"
    }
   ],
   "source": [
    "#RHS node indices\n",
    "np.arange(NCoarse[0], np.prod(NCoarse+1), NCoarse[0]+1)"
   ]
  },
  {
   "cell_type": "code",
   "execution_count": 8,
   "metadata": {},
   "outputs": [
    {
     "data": {
      "text/plain": [
       "array([[19, 20, 21, 22, 23, 24, 25, 26, 27],\n",
       "       [46, 47, 48, 49, 50, 51, 52, 53, 54],\n",
       "       [73, 74, 75, 76, 77, 78, 79, 80, 81]])"
      ]
     },
     "execution_count": 8,
     "metadata": {},
     "output_type": "execute_result"
    }
   ],
   "source": [
    "#RHS-ROW-values corresponding to above RHS node-indices\n",
    "MFEM[np.arange(NCoarse[0], np.prod(NCoarse+1), NCoarse[0]+1),:]"
   ]
  },
  {
   "cell_type": "code",
   "execution_count": 9,
   "metadata": {},
   "outputs": [
    {
     "data": {
      "text/plain": [
       "array([[ 20,  22,  24,  26,  28,  30,  32,  34,  36],\n",
       "       [ 10,  11,  12,  13,  14,  15,  16,  17,  18],\n",
       "       [ 19,  20,  21,  22,  23,  24,  25,  26,  27],\n",
       "       [ 74,  76,  78,  80,  82,  84,  86,  88,  90],\n",
       "       [ 37,  38,  39,  40,  41,  42,  43,  44,  45],\n",
       "       [ 46,  47,  48,  49,  50,  51,  52,  53,  54],\n",
       "       [128, 130, 132, 134, 136, 138, 140, 142, 144],\n",
       "       [ 64,  65,  66,  67,  68,  69,  70,  71,  72],\n",
       "       [ 73,  74,  75,  76,  77,  78,  79,  80,  81]])"
      ]
     },
     "execution_count": 9,
     "metadata": {},
     "output_type": "execute_result"
    }
   ],
   "source": [
    "#LHS + RHS row values added to the LHS nodal positions\n",
    "MFEM[np.arange(0, NCoarse[1]*(NCoarse[0]+1)+1, NCoarse[0]+1),:] \\\n",
    "        += MFEM[np.arange(NCoarse[0], np.prod(NCoarse+1), NCoarse[0]+1),:]\n",
    "MFEM"
   ]
  },
  {
   "cell_type": "code",
   "execution_count": 10,
   "metadata": {},
   "outputs": [
    {
     "data": {
      "text/plain": [
       "array([0, 3, 6])"
      ]
     },
     "execution_count": 10,
     "metadata": {},
     "output_type": "execute_result"
    }
   ],
   "source": [
    "#LHS node indices\n",
    "np.arange(0, NCoarse[1] * (NCoarse[0] + 1) + 1, NCoarse[0] + 1)"
   ]
  },
  {
   "cell_type": "code",
   "execution_count": 11,
   "metadata": {},
   "outputs": [
    {
     "data": {
      "text/plain": [
       "array([0, 3, 6])"
      ]
     },
     "execution_count": 11,
     "metadata": {},
     "output_type": "execute_result"
    }
   ],
   "source": [
    "#LHS node indices\n",
    "np.arange(0, NCoarse[1] * (NCoarse[0] + 1) + 1, NCoarse[0] + 1)"
   ]
  },
  {
   "cell_type": "code",
   "execution_count": 12,
   "metadata": {},
   "outputs": [
    {
     "data": {
      "text/plain": [
       "array([2, 5, 8])"
      ]
     },
     "execution_count": 12,
     "metadata": {},
     "output_type": "execute_result"
    }
   ],
   "source": [
    "#RHS node indices\n",
    "np.arange(NCoarse[0], np.prod(NCoarse + 1), NCoarse[0] + 1)"
   ]
  },
  {
   "cell_type": "code",
   "execution_count": 13,
   "metadata": {},
   "outputs": [
    {
     "data": {
      "text/plain": [
       "array([[ 24,  30,  36],\n",
       "       [ 12,  15,  18],\n",
       "       [ 21,  24,  27],\n",
       "       [ 78,  84,  90],\n",
       "       [ 39,  42,  45],\n",
       "       [ 48,  51,  54],\n",
       "       [132, 138, 144],\n",
       "       [ 66,  69,  72],\n",
       "       [ 75,  78,  81]])"
      ]
     },
     "execution_count": 13,
     "metadata": {},
     "output_type": "execute_result"
    }
   ],
   "source": [
    "#RHS-COL-values corresponding to above indices\n",
    "MFEM[:, np.arange(NCoarse[0], np.prod(NCoarse + 1), NCoarse[0] + 1)]"
   ]
  },
  {
   "cell_type": "code",
   "execution_count": 14,
   "metadata": {},
   "outputs": [
    {
     "data": {
      "text/plain": [
       "array([[ 44,  22,  24,  56,  28,  30,  68,  34,  36],\n",
       "       [ 22,  11,  12,  28,  14,  15,  34,  17,  18],\n",
       "       [ 40,  20,  21,  46,  23,  24,  52,  26,  27],\n",
       "       [152,  76,  78, 164,  82,  84, 176,  88,  90],\n",
       "       [ 76,  38,  39,  82,  41,  42,  88,  44,  45],\n",
       "       [ 94,  47,  48, 100,  50,  51, 106,  53,  54],\n",
       "       [260, 130, 132, 272, 136, 138, 284, 142, 144],\n",
       "       [130,  65,  66, 136,  68,  69, 142,  71,  72],\n",
       "       [148,  74,  75, 154,  77,  78, 160,  80,  81]])"
      ]
     },
     "execution_count": 14,
     "metadata": {},
     "output_type": "execute_result"
    }
   ],
   "source": [
    "#LHS + RHS column values added to the LHS nodal positions (LHS boundary points of the box)\n",
    "MFEM[:, np.arange(0, NCoarse[1] * (NCoarse[0] + 1) + 1, NCoarse[0] + 1)] \\\n",
    "                += MFEM[:, np.arange(NCoarse[0], np.prod(NCoarse + 1), NCoarse[0] + 1)]\n",
    "MFEM"
   ]
  },
  {
   "cell_type": "code",
   "execution_count": 15,
   "metadata": {},
   "outputs": [
    {
     "data": {
      "text/plain": [
       "array([0, 1, 2])"
      ]
     },
     "execution_count": 15,
     "metadata": {},
     "output_type": "execute_result"
    }
   ],
   "source": [
    "#BOTTOM-boundary node indices\n",
    "np.arange(NCoarse[0]+1)"
   ]
  },
  {
   "cell_type": "code",
   "execution_count": 16,
   "metadata": {},
   "outputs": [
    {
     "data": {
      "text/plain": [
       "array([[44, 22, 24, 56, 28, 30, 68, 34, 36],\n",
       "       [22, 11, 12, 28, 14, 15, 34, 17, 18],\n",
       "       [40, 20, 21, 46, 23, 24, 52, 26, 27]])"
      ]
     },
     "execution_count": 16,
     "metadata": {},
     "output_type": "execute_result"
    }
   ],
   "source": [
    "#BOTTOM-ROW-values corresponding to above indices\n",
    "MFEM[np.arange(NCoarse[0]+1), :] "
   ]
  },
  {
   "cell_type": "code",
   "execution_count": 17,
   "metadata": {},
   "outputs": [
    {
     "data": {
      "text/plain": [
       "array([6, 7, 8])"
      ]
     },
     "execution_count": 17,
     "metadata": {},
     "output_type": "execute_result"
    }
   ],
   "source": [
    "#TOP-boundary node indices\n",
    "np.arange(NCoarse[1]*(NCoarse[0]+1), np.prod(NCoarse+1))"
   ]
  },
  {
   "cell_type": "code",
   "execution_count": 18,
   "metadata": {},
   "outputs": [
    {
     "data": {
      "text/plain": [
       "array([[260, 130, 132, 272, 136, 138, 284, 142, 144],\n",
       "       [130,  65,  66, 136,  68,  69, 142,  71,  72],\n",
       "       [148,  74,  75, 154,  77,  78, 160,  80,  81]])"
      ]
     },
     "execution_count": 18,
     "metadata": {},
     "output_type": "execute_result"
    }
   ],
   "source": [
    "#TOP-ROW-values corresponding to above TOP-nodal indices\n",
    "MFEM[np.arange(NCoarse[1]*(NCoarse[0]+1), np.prod(NCoarse+1)), :]"
   ]
  },
  {
   "cell_type": "code",
   "execution_count": 19,
   "metadata": {},
   "outputs": [
    {
     "data": {
      "text/plain": [
       "array([[304, 152, 156, 328, 164, 168, 352, 176, 180],\n",
       "       [152,  76,  78, 164,  82,  84, 176,  88,  90],\n",
       "       [188,  94,  96, 200, 100, 102, 212, 106, 108],\n",
       "       [152,  76,  78, 164,  82,  84, 176,  88,  90],\n",
       "       [ 76,  38,  39,  82,  41,  42,  88,  44,  45],\n",
       "       [ 94,  47,  48, 100,  50,  51, 106,  53,  54],\n",
       "       [260, 130, 132, 272, 136, 138, 284, 142, 144],\n",
       "       [130,  65,  66, 136,  68,  69, 142,  71,  72],\n",
       "       [148,  74,  75, 154,  77,  78, 160,  80,  81]])"
      ]
     },
     "execution_count": 19,
     "metadata": {},
     "output_type": "execute_result"
    }
   ],
   "source": [
    "# BOTTOM + TOP row-values added to the BOTTOM nodal positions (Bbottom boundary of the box)\n",
    "MFEM[np.arange(NCoarse[0]+1), :] += MFEM[np.arange(NCoarse[1]*(NCoarse[0]+1), np.prod(NCoarse+1)), :]\n",
    "MFEM"
   ]
  },
  {
   "cell_type": "code",
   "execution_count": 20,
   "metadata": {},
   "outputs": [
    {
     "data": {
      "text/plain": [
       "array([0, 1, 2])"
      ]
     },
     "execution_count": 20,
     "metadata": {},
     "output_type": "execute_result"
    }
   ],
   "source": [
    "#BOTTOM-boundary nodal indices\n",
    "np.arange(NCoarse[0] + 1)"
   ]
  },
  {
   "cell_type": "code",
   "execution_count": 21,
   "metadata": {},
   "outputs": [
    {
     "data": {
      "text/plain": [
       "array([[304, 152, 156],\n",
       "       [152,  76,  78],\n",
       "       [188,  94,  96],\n",
       "       [152,  76,  78],\n",
       "       [ 76,  38,  39],\n",
       "       [ 94,  47,  48],\n",
       "       [260, 130, 132],\n",
       "       [130,  65,  66],\n",
       "       [148,  74,  75]])"
      ]
     },
     "execution_count": 21,
     "metadata": {},
     "output_type": "execute_result"
    }
   ],
   "source": [
    "#BOTTOM-Column-values corresponding to above BOTTOM-boundary nodal-indices\n",
    "MFEM[:, np.arange(NCoarse[0] + 1)]"
   ]
  },
  {
   "cell_type": "code",
   "execution_count": 22,
   "metadata": {},
   "outputs": [
    {
     "data": {
      "text/plain": [
       "array([6, 7, 8])"
      ]
     },
     "execution_count": 22,
     "metadata": {},
     "output_type": "execute_result"
    }
   ],
   "source": [
    "# TOP-boundary nodal indices\n",
    "np.arange(NCoarse[1] * (NCoarse[0] + 1), np.prod(NCoarse + 1))"
   ]
  },
  {
   "cell_type": "code",
   "execution_count": 23,
   "metadata": {},
   "outputs": [
    {
     "data": {
      "text/plain": [
       "array([[352, 176, 180],\n",
       "       [176,  88,  90],\n",
       "       [212, 106, 108],\n",
       "       [176,  88,  90],\n",
       "       [ 88,  44,  45],\n",
       "       [106,  53,  54],\n",
       "       [284, 142, 144],\n",
       "       [142,  71,  72],\n",
       "       [160,  80,  81]])"
      ]
     },
     "execution_count": 23,
     "metadata": {},
     "output_type": "execute_result"
    }
   ],
   "source": [
    "# #TOP-Column-values corresponding to above TOP-boundary nodal-indices\n",
    "MFEM[:, np.arange(NCoarse[1] * (NCoarse[0] + 1), np.prod(NCoarse + 1))]"
   ]
  },
  {
   "cell_type": "code",
   "execution_count": 24,
   "metadata": {},
   "outputs": [
    {
     "data": {
      "text/plain": [
       "array([[656, 328, 336, 328, 164, 168, 352, 176, 180],\n",
       "       [328, 164, 168, 164,  82,  84, 176,  88,  90],\n",
       "       [400, 200, 204, 200, 100, 102, 212, 106, 108],\n",
       "       [328, 164, 168, 164,  82,  84, 176,  88,  90],\n",
       "       [164,  82,  84,  82,  41,  42,  88,  44,  45],\n",
       "       [200, 100, 102, 100,  50,  51, 106,  53,  54],\n",
       "       [544, 272, 276, 272, 136, 138, 284, 142, 144],\n",
       "       [272, 136, 138, 136,  68,  69, 142,  71,  72],\n",
       "       [308, 154, 156, 154,  77,  78, 160,  80,  81]])"
      ]
     },
     "execution_count": 24,
     "metadata": {},
     "output_type": "execute_result"
    }
   ],
   "source": [
    "# BOTTOM + TOP column-values added to the BOTTOM nodal positions (Bbottom boundary of the box)\n",
    "MFEM[:, np.arange(NCoarse[0] + 1)] += MFEM[:, np.arange(NCoarse[1] * (NCoarse[0] + 1), np.prod(NCoarse + 1))]\n",
    "MFEM"
   ]
  },
  {
   "cell_type": "code",
   "execution_count": 25,
   "metadata": {},
   "outputs": [
    {
     "data": {
      "text/plain": [
       "array([6, 7, 8])"
      ]
     },
     "execution_count": 25,
     "metadata": {},
     "output_type": "execute_result"
    }
   ],
   "source": [
    "# Abandoning TOP-boundary nodal indices \n",
    "np.arange(NCoarse[1] * (NCoarse[0] + 1), NpCoarse)"
   ]
  },
  {
   "cell_type": "code",
   "execution_count": 26,
   "metadata": {},
   "outputs": [
    {
     "data": {
      "text/plain": [
       "array([2, 5])"
      ]
     },
     "execution_count": 26,
     "metadata": {},
     "output_type": "execute_result"
    }
   ],
   "source": [
    "#Abandoning RHS-boundary nodal indices without overlapping the TOP-Right corner point\n",
    "np.arange(NCoarse[0], NpCoarse - 1, NCoarse[0] + 1)"
   ]
  },
  {
   "cell_type": "code",
   "execution_count": 27,
   "metadata": {},
   "outputs": [
    {
     "data": {
      "text/plain": [
       "array([6, 7, 8, 2, 5])"
      ]
     },
     "execution_count": 27,
     "metadata": {},
     "output_type": "execute_result"
    }
   ],
   "source": [
    "# All the abandoning boundary points\n",
    "fixed_DoF = np.concatenate((np.arange(NCoarse[1] * (NCoarse[0] + 1), NpCoarse), np.arange(NCoarse[0], NpCoarse - 1, NCoarse[0] + 1)))\n",
    "fixed_DoF"
   ]
  },
  {
   "cell_type": "code",
   "execution_count": 29,
   "metadata": {},
   "outputs": [
    {
     "data": {
      "text/plain": [
       "array([0, 1, 3, 4])"
      ]
     },
     "execution_count": 29,
     "metadata": {},
     "output_type": "execute_result"
    }
   ],
   "source": [
    "# Rest of the nodal indices \n",
    "free_DoF = np.setdiff1d(np.arange(NpCoarse), fixed_DoF)\n",
    "free_DoF "
   ]
  },
  {
   "cell_type": "code",
   "execution_count": 30,
   "metadata": {},
   "outputs": [
    {
     "data": {
      "text/plain": [
       "array([[656, 328, 336, 328, 164, 168, 352, 176, 180],\n",
       "       [328, 164, 168, 164,  82,  84, 176,  88,  90],\n",
       "       [328, 164, 168, 164,  82,  84, 176,  88,  90],\n",
       "       [164,  82,  84,  82,  41,  42,  88,  44,  45]])"
      ]
     },
     "execution_count": 30,
     "metadata": {},
     "output_type": "execute_result"
    }
   ],
   "source": [
    "# Row-values of all the used nodal-points when Periodic B.C. applied + All other nodal column values\n",
    "MFEM[free_DoF]"
   ]
  },
  {
   "cell_type": "code",
   "execution_count": 31,
   "metadata": {},
   "outputs": [
    {
     "data": {
      "text/plain": [
       "array([[656, 328, 328, 164],\n",
       "       [328, 164, 164,  82],\n",
       "       [328, 164, 164,  82],\n",
       "       [164,  82,  82,  41]])"
      ]
     },
     "execution_count": 31,
     "metadata": {},
     "output_type": "execute_result"
    }
   ],
   "source": [
    "# The column values of only the used nodas extracted from above matix. (i.e. All the nadal values after Perioc B.C. are applied)\n",
    "M_Free_DoF = MFEM[free_DoF][:, free_DoF]\n",
    "M_Free_DoF "
   ]
  },
  {
   "attachments": {},
   "cell_type": "markdown",
   "metadata": {},
   "source": [
    "                                                                                        Periodic Boundary Conditions for 1D domain"
   ]
  },
  {
   "cell_type": "code",
   "execution_count": 32,
   "metadata": {},
   "outputs": [
    {
     "data": {
      "text/plain": [
       "4"
      ]
     },
     "execution_count": 32,
     "metadata": {},
     "output_type": "execute_result"
    }
   ],
   "source": [
    "NCoarse = np.array([3])\n",
    "NpCoarse = np.prod(NCoarse+1) \n",
    "NpCoarse"
   ]
  },
  {
   "cell_type": "code",
   "execution_count": 33,
   "metadata": {},
   "outputs": [
    {
     "data": {
      "text/plain": [
       "array([[ 1,  2,  3,  4],\n",
       "       [ 5,  6,  7,  8],\n",
       "       [ 9, 10, 11, 12],\n",
       "       [13, 14, 15, 16]])"
      ]
     },
     "execution_count": 33,
     "metadata": {},
     "output_type": "execute_result"
    }
   ],
   "source": [
    "D1 = np.array(range(1,17,1)).reshape(4,4)\n",
    "D1"
   ]
  },
  {
   "cell_type": "code",
   "execution_count": 34,
   "metadata": {},
   "outputs": [
    {
     "data": {
      "text/plain": [
       "array([1, 2, 3, 4])"
      ]
     },
     "execution_count": 34,
     "metadata": {},
     "output_type": "execute_result"
    }
   ],
   "source": [
    "#LHS node index\n",
    "D1[0]"
   ]
  },
  {
   "cell_type": "code",
   "execution_count": 35,
   "metadata": {},
   "outputs": [
    {
     "data": {
      "text/plain": [
       "array([13, 14, 15, 16])"
      ]
     },
     "execution_count": 35,
     "metadata": {},
     "output_type": "execute_result"
    }
   ],
   "source": [
    "# RHS node index\n",
    "D1[-1]"
   ]
  },
  {
   "cell_type": "code",
   "execution_count": 36,
   "metadata": {},
   "outputs": [
    {
     "data": {
      "text/plain": [
       "array([[14, 16, 18, 20],\n",
       "       [ 5,  6,  7,  8],\n",
       "       [ 9, 10, 11, 12],\n",
       "       [13, 14, 15, 16]])"
      ]
     },
     "execution_count": 36,
     "metadata": {},
     "output_type": "execute_result"
    }
   ],
   "source": [
    "D1[0] += D1[-1]\n",
    "D1"
   ]
  },
  {
   "cell_type": "code",
   "execution_count": 37,
   "metadata": {},
   "outputs": [
    {
     "data": {
      "text/plain": [
       "array([0, 1, 2, 3])"
      ]
     },
     "execution_count": 37,
     "metadata": {},
     "output_type": "execute_result"
    }
   ],
   "source": [
    "np.arange(NpCoarse)"
   ]
  },
  {
   "cell_type": "code",
   "execution_count": 38,
   "metadata": {},
   "outputs": [
    {
     "data": {
      "text/plain": [
       "array([0, 1, 2])"
      ]
     },
     "execution_count": 38,
     "metadata": {},
     "output_type": "execute_result"
    }
   ],
   "source": [
    "# Abandoning last index\n",
    "free_DoF = np.setdiff1d(np.arange(NpCoarse-1), D1[-1])\n",
    "free_DoF "
   ]
  },
  {
   "cell_type": "code",
   "execution_count": 39,
   "metadata": {},
   "outputs": [
    {
     "data": {
      "text/plain": [
       "array([[14, 16, 18],\n",
       "       [ 5,  6,  7],\n",
       "       [ 9, 10, 11]])"
      ]
     },
     "execution_count": 39,
     "metadata": {},
     "output_type": "execute_result"
    }
   ],
   "source": [
    "D1_Free_DoF = D1[free_DoF][:, free_DoF]\n",
    "D1_Free_DoF "
   ]
  }
 ],
 "metadata": {
  "kernelspec": {
   "display_name": "venv3",
   "language": "python",
   "name": "python3"
  },
  "language_info": {
   "codemirror_mode": {
    "name": "ipython",
    "version": 3
   },
   "file_extension": ".py",
   "mimetype": "text/x-python",
   "name": "python",
   "nbconvert_exporter": "python",
   "pygments_lexer": "ipython3",
   "version": "3.9.2"
  },
  "orig_nbformat": 4
 },
 "nbformat": 4,
 "nbformat_minor": 2
}
