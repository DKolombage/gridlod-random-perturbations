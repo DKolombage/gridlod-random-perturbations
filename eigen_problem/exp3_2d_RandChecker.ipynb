{
 "cells": [
  {
   "cell_type": "code",
   "execution_count": 1,
   "metadata": {},
   "outputs": [],
   "source": [
    "from with_FEM_MassMatrix import *\n",
    "from convergence import *\n",
    "from Reference_Solvers import *\n",
    "from Experimental_Order_Cvg import *\n",
    "from plots import *"
   ]
  },
  {
   "cell_type": "code",
   "execution_count": 3,
   "metadata": {},
   "outputs": [],
   "source": [
    "alpha = 0.1\n",
    "beta = 1.\n",
    "NSamples =250\n",
    "pList = pList = [0.01, 0.02, 0.03, 0.04, 0.05, 0.06, 0.07, 0.08, 0.09, 0.1]\n",
    "model ={'name': 'check', 'alpha': alpha, 'beta': beta}\n",
    "NCoarse = np.array([4,4])\n",
    "NFine = np.array([256, 256])   # Number of \"fine-blocks\" on τ_h mesh in each direction (1-D array: [x_h, y_h, z_h])\n",
    "Nepsilon = np.array([64,64])    # Number of \"epsilon-blocks\" on τ_ε mesh in each direction (1-D array: [x_ε, y_ε, z_ε] if 3D etc.)     # Number of \"coarse-blocks\" on τ_H mesh in each direction (1-D array: [x_H, y_H, z_H]) # Number of layers in the patch \n",
    "Neigen = 3\n",
    "k =1\n",
    "np.random.seed(123)\n",
    "root = 'Data/2d_randcheck/'\n",
    "type = \"rand_checkerboard\""
   ]
  },
  {
   "cell_type": "code",
   "execution_count": null,
   "metadata": {},
   "outputs": [],
   "source": [
    "plots_coeffs(Nepsilon, NFine, alpha, beta, pList, type)"
   ]
  },
  {
   "cell_type": "code",
   "execution_count": null,
   "metadata": {},
   "outputs": [],
   "source": [
    "convergence(Neigen, NCoarse, NFine, Nepsilon, k, NSamples, pList,alpha,beta, reference_solver=\"FEM\", save_files = True, plot=False)"
   ]
  },
  {
   "cell_type": "code",
   "execution_count": null,
   "metadata": {},
   "outputs": [],
   "source": [
    "plots_cvg(root=root, H_Convergence=True, p_Convergence=True)"
   ]
  },
  {
   "cell_type": "code",
   "execution_count": null,
   "metadata": {},
   "outputs": [],
   "source": [
    "EOC(NCoarse, NFine, Nepsilon, k, NSamples, pList,alpha,beta, Neigen, root = None, use_stored_data=True)"
   ]
  }
 ],
 "metadata": {
  "kernelspec": {
   "display_name": "venv3",
   "language": "python",
   "name": "python3"
  },
  "language_info": {
   "codemirror_mode": {
    "name": "ipython",
    "version": 3
   },
   "file_extension": ".py",
   "mimetype": "text/x-python",
   "name": "python",
   "nbconvert_exporter": "python",
   "pygments_lexer": "ipython3",
   "version": "3.9.2"
  },
  "orig_nbformat": 4
 },
 "nbformat": 4,
 "nbformat_minor": 2
}
