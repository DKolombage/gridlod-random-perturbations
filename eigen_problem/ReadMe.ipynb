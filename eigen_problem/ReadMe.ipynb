{
 "cells": [
  {
   "attachments": {},
   "cell_type": "markdown",
   "metadata": {},
   "source": [
    "$\\hspace{15cm}$ $\\underline{\\text{Data Set Labelling}}$  "
   ]
  },
  {
   "attachments": {},
   "cell_type": "markdown",
   "metadata": {},
   "source": [
    "Folder $\\to$ Method $+$ Dim $\\to$ [sample size $+$ prbability set (start point_end point_number of uniformly distributed points in the set)]"
   ]
  },
  {
   "attachments": {},
   "cell_type": "markdown",
   "metadata": {},
   "source": [
    "$e.g.$\n",
    "\n",
    "Data $\\to$ LOD_1d_randcheck $\\to$ N100_Ppt02_pt1_5\n",
    "\n",
    "Data $\\to$ $\\hspace{0.1cm}$  LOD $\\hspace{1.8cm}$ $\\longrightarrow$ $\\hspace{1.2cm}$ Sample size N = 100 $\\newline$ \n",
    "$\\hspace{1.25cm}$ $1-D$ $\\hspace{3.5cm}$ Probability set p = {0.02, 0.04, 0.06, 0.08, 0.1}$\\newline$ \n",
    "$\\hspace{1.25cm}$ Random checker-board"
   ]
  }
 ],
 "metadata": {
  "language_info": {
   "name": "python"
  },
  "orig_nbformat": 4
 },
 "nbformat": 4,
 "nbformat_minor": 2
}
